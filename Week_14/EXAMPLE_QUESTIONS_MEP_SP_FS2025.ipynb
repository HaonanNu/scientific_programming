{
 "cells": [
  {
   "attachments": {},
   "cell_type": "markdown",
   "id": "34c772f4",
   "metadata": {},
   "source": [
    "# Example Questions MEP Scientific Programming"
   ]
  },
  {
   "attachments": {},
   "cell_type": "markdown",
   "id": "3f9ea7cf",
   "metadata": {},
   "source": [
    "### <p style=\"color:blue;\">Note that in the written exam, 4 answer options are provided for each question from which only one is correct!</p>"
   ]
  },
  {
   "attachments": {},
   "cell_type": "markdown",
   "id": "6cd7bf53",
   "metadata": {},
   "source": [
    "## Operators in Python"
   ]
  },
  {
   "attachments": {},
   "cell_type": "markdown",
   "id": "a342403c",
   "metadata": {},
   "source": [
    "### What is the output of the following code?\n",
    "\n",
    "```python\n",
    "x = (25 // 2) + (3 / 1.5) * (4**3) * (19 % 3)\n",
    "print(x)\n",
    "```"
   ]
  },
  {
   "attachments": {},
   "cell_type": "markdown",
   "id": "13cb33ea",
   "metadata": {},
   "source": [
    "#### Solution:"
   ]
  },
  {
   "cell_type": "code",
   "execution_count": 1,
   "id": "fbf5bf93",
   "metadata": {},
   "outputs": [
    {
     "name": "stdout",
     "output_type": "stream",
     "text": [
      "140.0\n",
      "-----\n",
      "12\n",
      "2.0\n",
      "64\n",
      "1\n"
     ]
    }
   ],
   "source": [
    "x = (25 // 2) + (3 / 1.5) * (4**3) * (19 % 3)\n",
    "print(x)\n",
    "\n",
    "# Individual results:\n",
    "print('-----')\n",
    "print(25 // 2) # floor devision, divides two numbers and rounds the result down to the nearest integer\n",
    "print(3 / 1.5) # devision\n",
    "print(4**3) # exponentiation, the same like 4x4x4\n",
    "print(19 % 3) # modulo operator, returns the remainder of dividing the left hand operand by right hand operand"
   ]
  },
  {
   "attachments": {},
   "cell_type": "markdown",
   "id": "9ff677aa",
   "metadata": {},
   "source": [
    "### What is the output of the following code?\n",
    "\n",
    "```python\n",
    "var1 = 36\n",
    "var2 = 32\n",
    "var3 = len('MY PET IS A DOG!')\n",
    "print(var1 > 100 and var3 < 20 or var2 > var1, var1 != var3, var1 == var2 + 4)\n",
    "```"
   ]
  },
  {
   "attachments": {},
   "cell_type": "markdown",
   "id": "787e8404",
   "metadata": {},
   "source": [
    "#### Solution:"
   ]
  },
  {
   "cell_type": "code",
   "execution_count": 2,
   "id": "1857795d",
   "metadata": {},
   "outputs": [
    {
     "name": "stdout",
     "output_type": "stream",
     "text": [
      "False True True\n"
     ]
    }
   ],
   "source": [
    "var1 = 36\n",
    "var2 = 32\n",
    "var3 = len('MY PET IS A DOG!')\n",
    "print(var1 > 100 and var3 < 20 or var2 > var1, var1 != var3, var1 == var2 + 4)\n",
    "\n",
    "# Explanations:\n",
    "# len() returns the length of the string including empty spaces\n",
    "# 'and' returns True if both conditions are True\n",
    "# 'or' returns True if one of both conditions are True\n",
    "# > returns True if the left value is larger than the right value\n",
    "# < returns True if the left value is smaller than the right value\n",
    "# != returns True if the left value is not equal to the right value\n",
    "# == returns True if the left value equals the right value"
   ]
  },
  {
   "attachments": {},
   "cell_type": "markdown",
   "id": "0de35c6e",
   "metadata": {},
   "source": [
    "### What is the output of the following code?\n",
    "\n",
    "```python\n",
    "as = (12 / 6) + (20 // 5) + (17 % 2)\n",
    "print(as)\n",
    "```"
   ]
  },
  {
   "attachments": {},
   "cell_type": "markdown",
   "id": "49c26f32",
   "metadata": {},
   "source": [
    "#### Solution:"
   ]
  },
  {
   "cell_type": "code",
   "execution_count": 3,
   "id": "78757fc8",
   "metadata": {},
   "outputs": [],
   "source": [
    "# as = (12 / 6) + (20 // 5) + (17 % 2)\n",
    "# print(as)\n",
    "\n",
    "# Note that this code raises an error!\n",
    "\n",
    "# Explanation: because 'as' is a reserved word (= keyword) in Python it cannot be used as a variable name."
   ]
  },
  {
   "attachments": {},
   "cell_type": "markdown",
   "id": "f3dd476f",
   "metadata": {},
   "source": [
    "### What is the output of the following code?\n",
    "\n",
    "```python\n",
    "a = 8\n",
    "b = 6\n",
    "a += 10\n",
    "b **= 2\n",
    "c = a + b\n",
    "print(c)\n",
    "```"
   ]
  },
  {
   "attachments": {},
   "cell_type": "markdown",
   "id": "8d0ccac4",
   "metadata": {},
   "source": [
    "#### Solution:"
   ]
  },
  {
   "cell_type": "code",
   "execution_count": 4,
   "id": "0556d356",
   "metadata": {},
   "outputs": [
    {
     "name": "stdout",
     "output_type": "stream",
     "text": [
      "54\n"
     ]
    }
   ],
   "source": [
    "a = 8\n",
    "b = 6\n",
    "a += 10\n",
    "b **= 2\n",
    "c = a + b\n",
    "print(c)\n",
    "\n",
    "# Explanation\n",
    "# a += 10 is equal to a = a + 10 which gives 18 here\n",
    "# b **= 2 is equal to b = b**2 which gives 36 here\n",
    "# c = 18 + 36 = 54"
   ]
  },
  {
   "attachments": {},
   "cell_type": "markdown",
   "id": "175ad8e8",
   "metadata": {},
   "source": [
    "### What is the output of the following code?\n",
    "\n",
    "```python\n",
    "a = 100\n",
    "b = 240\n",
    "c = 120\n",
    "print(not(a >= 100 and b <= 200), b != c*2)\n",
    "```"
   ]
  },
  {
   "attachments": {},
   "cell_type": "markdown",
   "id": "bb3138dd",
   "metadata": {},
   "source": [
    "#### Solution:"
   ]
  },
  {
   "cell_type": "code",
   "execution_count": 5,
   "id": "606556c9",
   "metadata": {},
   "outputs": [
    {
     "name": "stdout",
     "output_type": "stream",
     "text": [
      "True True False\n",
      "-----\n",
      "False\n",
      "True\n",
      "True\n",
      "False\n"
     ]
    }
   ],
   "source": [
    "a = 100\n",
    "b = 240\n",
    "c = 120\n",
    "print(not(a >= 100 and b <= 200), b == c*2, b != c*2)\n",
    "print('-----')\n",
    "\n",
    "# Explanation:\n",
    "# (a >= 100 and b <= 200) returns False because b is not <= 200\n",
    "print((a >= 100 and b <= 200))\n",
    "# not(a >= 100 and b <= 200) returns the oposite of False which is True\n",
    "print(not(a >= 100 and b <= 200))\n",
    "# The operator == means 'equal', because b is equal to c*2 this returns True\n",
    "print(b == c*2)\n",
    "# The operator != means 'not equal', because b is equal to c*2 this returns False\n",
    "print(b != c*2)"
   ]
  },
  {
   "attachments": {},
   "cell_type": "markdown",
   "id": "99cc86c2",
   "metadata": {},
   "source": [
    "## Data types and data structures in Python"
   ]
  },
  {
   "attachments": {},
   "cell_type": "markdown",
   "id": "ac9669d7",
   "metadata": {},
   "source": [
    "### Which data types are provided by the print() function in the code below?\n",
    "\n",
    "```python\n",
    "var1 = isinstance(122.5, float)\n",
    "var2 = 'my' + ' yellow' + ' dog'\n",
    "var3 = 7.14 / 2\n",
    "var4 = not(True == False)\n",
    "var5 = 75\n",
    "var6 = str(int(float(250.4)))\n",
    "var7 = 499 < 500\n",
    "\n",
    "print(type(var1),type(var2),type(var3),type(var4),type(var5),type(var6),type(var7))\n",
    "```"
   ]
  },
  {
   "attachments": {},
   "cell_type": "markdown",
   "id": "a6abf45a",
   "metadata": {},
   "source": [
    "#### Solution:"
   ]
  },
  {
   "cell_type": "code",
   "execution_count": 6,
   "id": "97d807df",
   "metadata": {},
   "outputs": [
    {
     "name": "stdout",
     "output_type": "stream",
     "text": [
      "<class 'bool'> <class 'str'> <class 'float'> <class 'bool'> <class 'int'> <class 'str'> <class 'bool'>\n"
     ]
    }
   ],
   "source": [
    "var1 = isinstance(122.5, float)\n",
    "var2 = 'my' + ' yellow' + ' dog'\n",
    "var3 = 7.14 / 2\n",
    "var4 = not(True == False)\n",
    "var5 = 75\n",
    "var6 = str(int(float(250.4)))\n",
    "var7 = 499 < 500\n",
    "\n",
    "print(type(var1),type(var2),type(var3),type(var4),type(var5),type(var6),type(var7))\n",
    "\n",
    "# Explanation:\n",
    "# type returs the type\n",
    "# isinstance(122.5, float) asks whether 122.5 is an instance of a floating point number"
   ]
  },
  {
   "attachments": {},
   "cell_type": "markdown",
   "id": "7473b401",
   "metadata": {},
   "source": [
    "### What is the output of the following code?\n",
    "\n",
    "```python\n",
    "print(bool(3.14159), bool(\"\"), bool('cat'), bool(-42.0), bool(144/12), bool(False))\n",
    "```"
   ]
  },
  {
   "attachments": {},
   "cell_type": "markdown",
   "id": "3babd4ca",
   "metadata": {},
   "source": [
    "#### Solution:"
   ]
  },
  {
   "cell_type": "code",
   "execution_count": 7,
   "id": "583680e9",
   "metadata": {},
   "outputs": [
    {
     "name": "stdout",
     "output_type": "stream",
     "text": [
      "True False True True True False\n",
      "----------\n",
      "False\n",
      "False\n",
      "False\n",
      "False\n",
      "False\n",
      "False\n",
      "False\n"
     ]
    }
   ],
   "source": [
    "print(bool(3.14159), bool(\"\"), bool('cat'), bool(-42.0), bool(144/12), bool(False))\n",
    "print('----------')\n",
    "\n",
    "# Explanation:\n",
    "# When using bool(), the following expressions always evaluate to False:\n",
    "print(bool(False))\n",
    "print(bool(None))\n",
    "print(bool(0))\n",
    "print(bool(\"\"))\n",
    "print(bool(()))\n",
    "print(bool([]))\n",
    "print(bool({}))"
   ]
  },
  {
   "attachments": {},
   "cell_type": "markdown",
   "id": "274b8a7e",
   "metadata": {},
   "source": [
    "### What type will the following expression return?\n",
    "\n",
    "```python\n",
    "obj = ({1,2,3}, [4,5,6], ('dog', 3.14, '6.28'), {'a':'1', 'b':'2', 'c':'3'})\n",
    "print(type(obj[3]))\n",
    "```"
   ]
  },
  {
   "attachments": {},
   "cell_type": "markdown",
   "id": "a06415a0",
   "metadata": {},
   "source": [
    "#### Solution:"
   ]
  },
  {
   "cell_type": "code",
   "execution_count": 8,
   "id": "36bdf943",
   "metadata": {},
   "outputs": [
    {
     "name": "stdout",
     "output_type": "stream",
     "text": [
      "<class 'dict'>\n",
      "----------\n",
      "<class 'tuple'>\n",
      "<class 'set'>\n",
      "<class 'list'>\n",
      "<class 'tuple'>\n",
      "<class 'dict'>\n",
      "----------\n",
      "<class 'dict'>\n"
     ]
    }
   ],
   "source": [
    "obj = ({1,2,3}, [4,5,6], ('dog', 3.14, '6.28'), {'a':'1', 'b':'2', 'c':'3'})\n",
    "print(type(obj[3]))\n",
    "print('----------')\n",
    "\n",
    "# Explanation:\n",
    "# obj is a tuple which contains a set, a lists, a tuple and a dictionary\n",
    "print(type(obj))\n",
    "print(type(obj[0]))\n",
    "print(type(obj[1]))\n",
    "print(type(obj[2]))\n",
    "print(type(obj[3]))\n",
    "print('----------')\n",
    "\n",
    "# Explanation:\n",
    "# If you ask for the type of a single element of the tuple it gives the type of this single element\n",
    "print(type(obj[3]))"
   ]
  },
  {
   "attachments": {},
   "cell_type": "markdown",
   "id": "293fc4e1",
   "metadata": {},
   "source": [
    "### Which is the correct way to derive the dog names from the following dictionary?\n",
    "\n",
    "```python\n",
    "mydict = {'dog':['Hasso','Benno','Blue'], 'age':[8,6,4], 'color':['brown','yellow','blue']}\n",
    "```"
   ]
  },
  {
   "attachments": {},
   "cell_type": "markdown",
   "id": "5af80b15",
   "metadata": {},
   "source": [
    "#### Solution:"
   ]
  },
  {
   "cell_type": "code",
   "execution_count": 9,
   "id": "f473565b",
   "metadata": {},
   "outputs": [
    {
     "name": "stdout",
     "output_type": "stream",
     "text": [
      "['Hasso', 'Benno', 'Blue']\n"
     ]
    }
   ],
   "source": [
    "mydict = {'dog':['Hasso','Benno','Blue'], 'age':[8,6,4], 'color':['brown','yellow','blue']}\n",
    "print(list(mydict.values())[0])"
   ]
  },
  {
   "attachments": {},
   "cell_type": "markdown",
   "id": "fdadae9c",
   "metadata": {},
   "source": [
    "### Which is the correct way to change the values of 'age' in the following dictionary to 9,7,5?\n",
    "\n",
    "```python\n",
    "mydict = {'dog':['Hasso','Benno','Blue'], 'age':[8,6,4], 'color':['brown','yellow','blue']}\n",
    "```"
   ]
  },
  {
   "attachments": {},
   "cell_type": "markdown",
   "id": "12e45f66",
   "metadata": {},
   "source": [
    "#### Solution:"
   ]
  },
  {
   "cell_type": "code",
   "execution_count": 10,
   "id": "5779ada5",
   "metadata": {},
   "outputs": [
    {
     "data": {
      "text/plain": [
       "{'dog': ['Hasso', 'Benno', 'Blue'],\n",
       " 'age': [[9, 7, 5]],\n",
       " 'color': ['brown', 'yellow', 'blue']}"
      ]
     },
     "execution_count": 10,
     "metadata": {},
     "output_type": "execute_result"
    }
   ],
   "source": [
    "mydict = {'dog':['Hasso','Benno','Blue'], 'age':[8,6,4], 'color':['brown','yellow','blue']}\n",
    "mydict.update({\"age\": [[9,7,5]]})\n",
    "mydict\n",
    "\n",
    "# Explanation: \n",
    "# In this example .update() overwrites the values of the key 'age' because the key 'age' is already included in the dict. "
   ]
  },
  {
   "attachments": {},
   "cell_type": "markdown",
   "id": "2a421b5e",
   "metadata": {},
   "source": [
    "### What is the output of the following code?\n",
    "\n",
    "```python\n",
    "marks = {'Physics':67, 'Maths':87}\n",
    "internal_marks = {'Practical':48}\n",
    "\n",
    "marks.update(internal_marks)\n",
    "print(marks)\n",
    "```"
   ]
  },
  {
   "attachments": {},
   "cell_type": "markdown",
   "id": "8eabaff7",
   "metadata": {},
   "source": [
    "#### Solution:"
   ]
  },
  {
   "cell_type": "code",
   "execution_count": 11,
   "id": "e2cce18b",
   "metadata": {},
   "outputs": [
    {
     "name": "stdout",
     "output_type": "stream",
     "text": [
      "{'Physics': 67, 'Maths': 87, 'Practical': 48}\n"
     ]
    }
   ],
   "source": [
    "marks = {'Physics':67, 'Maths':87}\n",
    "internal_marks = {'Practical':48}\n",
    "\n",
    "marks.update(internal_marks)\n",
    "print(marks)\n",
    "\n",
    "# Explanation: \n",
    "# In this example .update() extents the dictionary because the key 'Practical' does not exist in the dict."
   ]
  },
  {
   "attachments": {},
   "cell_type": "markdown",
   "id": "d17fb48e",
   "metadata": {},
   "source": [
    "## Input, output, string & date formatting in Python"
   ]
  },
  {
   "attachments": {},
   "cell_type": "markdown",
   "id": "bf3b46df",
   "metadata": {},
   "source": [
    "### Which of the f-string formattings has been used to generate the formatted string shown in the code below?\n",
    "\n",
    "```python\n",
    "# Input lists\n",
    "pets = ['dogs', 'cats']\n",
    "weight = [10.3456, 4.4567]\n",
    "\n",
    "# Formatted string:\n",
    "'The weight of cats is 4.5 kg, the weight of dogs is 10 kg.'\n",
    "```"
   ]
  },
  {
   "attachments": {},
   "cell_type": "markdown",
   "id": "e7348f9a",
   "metadata": {},
   "source": [
    "#### Solution:"
   ]
  },
  {
   "cell_type": "code",
   "execution_count": 12,
   "id": "695ab8b8",
   "metadata": {
    "scrolled": true
   },
   "outputs": [
    {
     "name": "stdout",
     "output_type": "stream",
     "text": [
      "The weight of cats is 4.5 kg, the weight of dogs is 11 kg.\n"
     ]
    }
   ],
   "source": [
    "pets = ['dogs', 'cats']\n",
    "weight = [10.9, 4.4567]\n",
    "print(f'The weight of {pets[1]} is {weight[1]:2.1f} kg, the weight of {pets[0]} is {weight[0]:2.0f} kg.')"
   ]
  },
  {
   "attachments": {},
   "cell_type": "markdown",
   "id": "08c6bcfa",
   "metadata": {},
   "source": [
    "### When reading a pandas data frame from a semicolon separated, and UFT-8 encoded csv-file, which code is missing below?\n",
    "\n",
    "```python\n",
    "import pandas as pd\n",
    "\n",
    "df = pd.read_csv('pet_data.csv', '''missing code here''')\n",
    "print(df) \n",
    "```"
   ]
  },
  {
   "attachments": {},
   "cell_type": "markdown",
   "id": "998d2a4a",
   "metadata": {},
   "source": [
    "#### Solution:"
   ]
  },
  {
   "cell_type": "code",
   "execution_count": 13,
   "id": "3ff2f368",
   "metadata": {},
   "outputs": [
    {
     "data": {
      "text/html": [
       "<div>\n",
       "<style scoped>\n",
       "    .dataframe tbody tr th:only-of-type {\n",
       "        vertical-align: middle;\n",
       "    }\n",
       "\n",
       "    .dataframe tbody tr th {\n",
       "        vertical-align: top;\n",
       "    }\n",
       "\n",
       "    .dataframe thead th {\n",
       "        text-align: right;\n",
       "    }\n",
       "</style>\n",
       "<table border=\"1\" class=\"dataframe\">\n",
       "  <thead>\n",
       "    <tr style=\"text-align: right;\">\n",
       "      <th></th>\n",
       "      <th>Pet</th>\n",
       "      <th>Name</th>\n",
       "      <th>Color</th>\n",
       "      <th>Age</th>\n",
       "    </tr>\n",
       "  </thead>\n",
       "  <tbody>\n",
       "    <tr>\n",
       "      <th>0</th>\n",
       "      <td>Cat</td>\n",
       "      <td>Kitty</td>\n",
       "      <td>Gray</td>\n",
       "      <td>2.0</td>\n",
       "    </tr>\n",
       "    <tr>\n",
       "      <th>1</th>\n",
       "      <td>Dog</td>\n",
       "      <td>Benno</td>\n",
       "      <td>Brown</td>\n",
       "      <td>4.0</td>\n",
       "    </tr>\n",
       "    <tr>\n",
       "      <th>2</th>\n",
       "      <td>Cat</td>\n",
       "      <td>Peter</td>\n",
       "      <td>White</td>\n",
       "      <td>8.0</td>\n",
       "    </tr>\n",
       "    <tr>\n",
       "      <th>3</th>\n",
       "      <td>Dog</td>\n",
       "      <td>Benno</td>\n",
       "      <td>Brown</td>\n",
       "      <td>4.0</td>\n",
       "    </tr>\n",
       "    <tr>\n",
       "      <th>4</th>\n",
       "      <td>Cat</td>\n",
       "      <td>Trixy</td>\n",
       "      <td>Red</td>\n",
       "      <td>NaN</td>\n",
       "    </tr>\n",
       "  </tbody>\n",
       "</table>\n",
       "</div>"
      ],
      "text/plain": [
       "   Pet   Name  Color  Age\n",
       "0  Cat  Kitty   Gray  2.0\n",
       "1  Dog  Benno  Brown  4.0\n",
       "2  Cat  Peter  White  8.0\n",
       "3  Dog  Benno  Brown  4.0\n",
       "4  Cat  Trixy    Red  NaN"
      ]
     },
     "execution_count": 13,
     "metadata": {},
     "output_type": "execute_result"
    }
   ],
   "source": [
    "# Generate a .csv-file\n",
    "import csv\n",
    "import numpy as np\n",
    "\n",
    "colnames = ['Pet','Name','Color', 'Age']  \n",
    "values = [ ['Cat','Kitty','Gray', '2'], \n",
    "         ['Dog','Benno','Brown', '4'],  \n",
    "         ['Cat','Peter','White', '8'], \n",
    "         ['Dog','Benno','Brown', '4'],\n",
    "         ['Cat', 'Trixy', 'Red', np.NAN]] \n",
    "with open('./data/pet_data.csv', 'w', encoding='utf-8') as f:\n",
    "    write = csv.writer(f, delimiter=';') \n",
    "    write.writerow(colnames) \n",
    "    write.writerows(values)\n",
    "\n",
    "# Read the .csv-file\n",
    "import pandas as pd\n",
    "df = pd.read_csv('./data/pet_data.csv', sep=\";\", encoding='utf-8')\n",
    "df\n",
    "\n",
    "# Tip:\n",
    "# Note that the separator can also be a semicolon, a tab, an empty space, etc.\n",
    "# Note that there are other character encodings like 'latin1'."
   ]
  },
  {
   "attachments": {},
   "cell_type": "markdown",
   "id": "1efca817",
   "metadata": {},
   "source": [
    "### Consider the pandas data frame above and the Python statement for the selection. Which pets are selected?\n",
    "\n",
    "```python\n",
    "# Read the .csv-file\n",
    "import pandas as pd\n",
    "data = pd.read_csv('./data/pet_data.csv', sep=\";\", encoding='utf-8')\n",
    "\n",
    "# Subset of the data frame\n",
    "subset = data.dropna().drop_duplicates().loc[(data.Age >= 4) | (data.Pet != 'Cat')]\n",
    "print(list(subset.Name))\n",
    "```"
   ]
  },
  {
   "attachments": {},
   "cell_type": "markdown",
   "id": "4a7418dc",
   "metadata": {},
   "source": [
    "#### Solution:"
   ]
  },
  {
   "cell_type": "code",
   "execution_count": 14,
   "id": "d92be847",
   "metadata": {},
   "outputs": [
    {
     "name": "stdout",
     "output_type": "stream",
     "text": [
      "['Benno', 'Peter']\n"
     ]
    }
   ],
   "source": [
    "import pandas as pd\n",
    "data = pd.read_csv('./data/pet_data.csv', sep=\";\", encoding='utf-8')\n",
    "\n",
    "# Subset of the data frame\n",
    "subset = data.dropna().drop_duplicates().loc[(data.Age >= 4) | (data.Pet != 'Cat')]\n",
    "print(list(subset.Name))\n",
    "\n",
    "# Explanation:\n",
    "# dropna() removes the missing values, here the row with cat Trixy.\n",
    "# drop_duplicates() removes the duplicated values, here one row with dog Benno.\n",
    "# loc[(data.Age >= 4) | (data.Pet != 'Cat') reduces the data to the pets with the respective age and pet (cat, dog)\n",
    "# The | means 'or' so either the age is >= 4 years or the pet is unequal a cat meaning a 'dog'"
   ]
  },
  {
   "attachments": {},
   "cell_type": "markdown",
   "id": "805a95e9",
   "metadata": {},
   "source": [
    "### Consider the pandas data frame below. Which values are shown by the print() function?\n",
    "\n",
    "```python\n",
    "import pandas as pd\n",
    "data = pd.DataFrame({\n",
    "        'Pet': ['Cat', 'Dog', 'Cat', 'Dog'],\n",
    "        'Age': [4, 10, 6, 8]\n",
    "        })\n",
    "\n",
    "print(data.groupby(by='Pet').Age.mean())\n",
    "```"
   ]
  },
  {
   "attachments": {},
   "cell_type": "markdown",
   "id": "0a8c2c28",
   "metadata": {},
   "source": [
    "#### Solution:"
   ]
  },
  {
   "cell_type": "code",
   "execution_count": 15,
   "id": "455f776c",
   "metadata": {},
   "outputs": [
    {
     "name": "stdout",
     "output_type": "stream",
     "text": [
      "Pet\n",
      "Cat    5.0\n",
      "Dog    9.0\n",
      "Name: Age, dtype: float64\n"
     ]
    }
   ],
   "source": [
    "import pandas as pd\n",
    "data = pd.DataFrame({\n",
    "        'Pet': ['Cat', 'Dog', 'Cat', 'Dog'],\n",
    "        'Age': [4, 10, 6, 8]\n",
    "        })\n",
    "\n",
    "print(data.groupby(by='Pet').Age.mean())\n",
    "\n",
    "# Explanation:\n",
    "# groupby(by='Pet') groups the data by the variable Pet\n",
    "# Age.mean() calculates the mean of the variable Age for each Pet (Cats and Dogs)"
   ]
  },
  {
   "attachments": {},
   "cell_type": "markdown",
   "id": "a5bb1918",
   "metadata": {},
   "source": [
    "### Which column of the pandas data frame below will be returned by the code and which values?\n",
    "\n",
    "```python\n",
    "import pandas as pd\n",
    "data = pd.DataFrame({\n",
    "        'Pet': ['Cat', 'Dog', 'Cat', 'Dog'],\n",
    "        'Name': ['Kitty', 'Doggy', 'Catty', 'Lilly'],\n",
    "        'Age': [4, 10, 6, 8],\n",
    "        'Color':['Black', 'Red', 'Brown', 'Creme']\n",
    "        })\n",
    "\n",
    "print(data.iloc[[2],[1,2]])\n",
    "```"
   ]
  },
  {
   "attachments": {},
   "cell_type": "markdown",
   "id": "9c82c44d",
   "metadata": {},
   "source": [
    "#### Solution:"
   ]
  },
  {
   "cell_type": "code",
   "execution_count": 16,
   "id": "d7af8d9e",
   "metadata": {},
   "outputs": [
    {
     "name": "stdout",
     "output_type": "stream",
     "text": [
      "    Name  Age\n",
      "2  Catty    6\n"
     ]
    }
   ],
   "source": [
    "import pandas as pd\n",
    "data = pd.DataFrame({\n",
    "        'Pet': ['Cat', 'Dog', 'Cat', 'Dog'],\n",
    "        'Name': ['Kitty', 'Doggy', 'Catty', 'Lilly'],\n",
    "        'Age': [4, 10, 6, 8],\n",
    "        'Color':['Black', 'Red', 'Brown', 'Creme']\n",
    "        })\n",
    "\n",
    "print(data.iloc[[2],[1,2]])\n",
    "\n",
    "# Answer: Columns Name and Age with values 'Catty' and 6.\n",
    "\n",
    "# Explanation: \n",
    "# iloc[] can be used to subset a pandas data frame using row and column indices.\n",
    "# within the iloc statement, the [2] is the index of the rows meaning the 3rd row (it startes with zero)\n",
    "# within the iloc statement, the [1,2] is the index of the columns meaning the 2nd and 3rd column (it startes with zero)"
   ]
  },
  {
   "attachments": {},
   "cell_type": "markdown",
   "id": "0ff2e293",
   "metadata": {},
   "source": [
    "### What is the output of the Python code below?\n",
    "\n",
    "```python\n",
    "lst = [300, 400, 500, 100, 500]\n",
    "lst_new = [x/2 for x in lst]\n",
    "print(f\"The element we are looking for is: {lst_new[0]:.2f}\")\n",
    "```"
   ]
  },
  {
   "attachments": {},
   "cell_type": "markdown",
   "id": "a559cd0e",
   "metadata": {},
   "source": [
    "#### Solution:"
   ]
  },
  {
   "cell_type": "code",
   "execution_count": 17,
   "id": "ef2df560",
   "metadata": {},
   "outputs": [
    {
     "name": "stdout",
     "output_type": "stream",
     "text": [
      "The element we are looking for is: 150.00\n"
     ]
    }
   ],
   "source": [
    "lst = [300, 400, 500, 100, 500]\n",
    "lst_new = [x/2 for x in lst]\n",
    "print(f\"The element we are looking for is: {lst_new[0]:.2f}\")\n",
    "\n",
    "# Explanation:\n",
    "# lst is a list\n",
    "# lst_new (list comprehension) provides: [150.0, 200.0, 250.0, 50.0, 250.0]\n",
    "# lst_new[0] is the first element of lst_new which is 150.0\n",
    "# {lst_new[0]:.2f} formats the lst_new[0] using 2 decimal places\n",
    "# f\"The element we are looking for is: {lst_new[0]:.2f}\" is an f-string\n",
    "# The result is 'The element we are looking for is: 150.00'"
   ]
  },
  {
   "attachments": {},
   "cell_type": "markdown",
   "id": "932670da",
   "metadata": {},
   "source": [
    "### What is the output of the following code?\n",
    "```python\n",
    "import sqlite3\n",
    "import pandas as pd\n",
    "\n",
    "# 1st data frame\n",
    "df1 = data = pd.DataFrame({\n",
    "        'Id': [1, 2, 3, 4],\n",
    "        'Pet': ['Cat', 'Dog', 'Cat', 'Dog'],\n",
    "        'Name': ['Kitty', 'Doggy', 'Catty', 'Lilly'],\n",
    "        })\n",
    "\n",
    "# 2nd data frame\n",
    "df2 = data = pd.DataFrame({\n",
    "        'Id': [1, 2, 3, 4],\n",
    "        'Age': [4, 10, 6, 8],\n",
    "        'Color':['Black', 'Red', 'Brown', 'Creme']\n",
    "        })\n",
    "\n",
    "# Connection to db\n",
    "conn = sqlite3.connect(\"./data/pets.db\")\n",
    "\n",
    "# Write data to database\n",
    "df1.to_sql('pet01', conn, if_exists='replace')\n",
    "df2.to_sql('pet02', conn, if_exists='replace')\n",
    "\n",
    "# Connection to database\n",
    "conn = sqlite3.connect(\"./data/pets.db\")\n",
    "\n",
    "# Define SQL-query\n",
    "sql_query = \"\"\"SELECT\n",
    "                T1.Id,\n",
    "                T1.Pet,\n",
    "                T1.Name,\n",
    "                T2.Age,\n",
    "                T2.Color\n",
    "                FROM pet01 AS T1\n",
    "                LEFT JOIN pet02 AS T2\n",
    "                ON T1.Id = T2.Id\n",
    "                WHERE T1.Pet = \"Dog\"\n",
    "                AND T2.Age IN(10, 8)\n",
    "                ORDER BY T1.Id\n",
    "                \"\"\"\n",
    "\n",
    "# Run SQL-query and get data \n",
    "data = pd.read_sql(sql_query, con=conn)\n",
    "print(data)\n",
    "\n",
    "# Close connection\n",
    "conn.close()\n",
    "```"
   ]
  },
  {
   "attachments": {},
   "cell_type": "markdown",
   "id": "d8ff5e79",
   "metadata": {},
   "source": [
    "### Solution:"
   ]
  },
  {
   "cell_type": "code",
   "execution_count": 18,
   "id": "576648b6",
   "metadata": {},
   "outputs": [
    {
     "name": "stdout",
     "output_type": "stream",
     "text": [
      "   Id  Pet   Name  Age  Color\n",
      "0   2  Dog  Doggy   10    Red\n",
      "1   4  Dog  Lilly    8  Creme\n"
     ]
    }
   ],
   "source": [
    "import sqlite3\n",
    "import pandas as pd\n",
    "\n",
    "# 1st data frame\n",
    "df1 = data = pd.DataFrame({\n",
    "        'Id': [1, 2, 3, 4],\n",
    "        'Pet': ['Cat', 'Dog', 'Cat', 'Dog'],\n",
    "        'Name': ['Kitty', 'Doggy', 'Catty', 'Lilly'],\n",
    "        })\n",
    "\n",
    "# 2nd data frame\n",
    "df2 = data = pd.DataFrame({\n",
    "        'Id': [1, 2, 3, 4],\n",
    "        'Age': [4, 10, 6, 8],\n",
    "        'Color':['Black', 'Red', 'Brown', 'Creme']\n",
    "        })\n",
    "\n",
    "# Connection to db\n",
    "conn = sqlite3.connect(\"./data/pets.db\")\n",
    "\n",
    "# Write data to database\n",
    "df1.to_sql('pet01', conn, if_exists='replace')\n",
    "df2.to_sql('pet02', conn, if_exists='replace')\n",
    "\n",
    "# Define SQL-query\n",
    "sql_query = \"\"\"SELECT\n",
    "                T1.Id,\n",
    "                T1.Pet,\n",
    "                T1.Name,\n",
    "                T2.Age,\n",
    "                T2.Color\n",
    "                FROM pet01 AS T1\n",
    "                LEFT JOIN pet02 AS T2\n",
    "                ON T1.Id = T2.Id\n",
    "                WHERE T1.Pet = \"Dog\"\n",
    "                AND T2.Age IN(10, 8)\n",
    "                ORDER BY T1.Id\n",
    "                \"\"\"\n",
    "\n",
    "# Run SQL-query and get data \n",
    "data = pd.read_sql(sql_query, con=conn)\n",
    "print(data)\n",
    "\n",
    "# Close connection\n",
    "conn.close()\n",
    "\n",
    "# Explanation:\n",
    "# The data frames df1 und df2 are first created\n",
    "# conn = sqlite3.connect(\"pets.db\") creates a SQLite data base\n",
    "# to_sql ist used to write the data to the data base\n",
    "# sql_query contains the SQL-query which:\n",
    "# joins the two tables pet01 (T1) and pet02 (T2) \n",
    "# WHERE T1.Pet = \"Dog\" AND T2.Age IN(10, 8) means only dogs aged 10 or 8\n",
    "# ORDER BY T1.Id means order results by Id\n",
    "# data = pd.read_sql(sql_query, con=conn) makes the query and reads the result\n",
    "# conn.close() closes the data base connection"
   ]
  },
  {
   "attachments": {},
   "cell_type": "markdown",
   "id": "c0ca24ff",
   "metadata": {},
   "source": [
    "## Conditional statements, control statements, loops in Python"
   ]
  },
  {
   "attachments": {},
   "cell_type": "markdown",
   "id": "88739172",
   "metadata": {},
   "source": [
    "### What is the output of the following code?\n",
    "\n",
    "```python\n",
    "var = 75 / 25 * 4\n",
    "if var > 0 and var < 5:\n",
    "    print(\"Result 1\")\n",
    "elif var >= 5 and var < 10:\n",
    "    print(\"Result 2\")\n",
    "elif var >= 10 and var < 20:\n",
    "    print(\"Result 3\")\n",
    "else:\n",
    "    print(\"Result 4\")\n",
    "```"
   ]
  },
  {
   "cell_type": "code",
   "execution_count": 19,
   "id": "178a8f13",
   "metadata": {},
   "outputs": [
    {
     "name": "stdout",
     "output_type": "stream",
     "text": [
      "Result 3\n"
     ]
    }
   ],
   "source": [
    "# Solution\n",
    "var = 75 / 25 * 4\n",
    "if var > 0 and var < 5:\n",
    "    print(\"Result 1\")\n",
    "elif var >= 5 and var < 10:\n",
    "    print(\"Result 2\")\n",
    "elif var >= 10 and var < 20:\n",
    "    print(\"Result 3\")\n",
    "else:\n",
    "    print(\"Result 4\")"
   ]
  },
  {
   "attachments": {},
   "cell_type": "markdown",
   "id": "be19ffa7",
   "metadata": {},
   "source": [
    "### What is the output of the following code?\n",
    "\n",
    "```python\n",
    "mylist = ['reading','jogging', 'biking']\n",
    "if 'reading' not in mylist:\n",
    "    print('No, reading is not in the list.')\n",
    "elif 'jogging' in mylist:\n",
    "    print('Yes, jogging is in the list.')\n",
    "elif 'biking' in mylist:\n",
    "    print('Yes, biking is in the list.')\n",
    "elif 'reading' in mylist:\n",
    "    print('Yes, reading is in the list.')\n",
    "else:\n",
    "    print('Non of the hobbies is in the list.')\n",
    "```"
   ]
  },
  {
   "attachments": {},
   "cell_type": "markdown",
   "id": "9290ac62",
   "metadata": {},
   "source": [
    "#### Solution:"
   ]
  },
  {
   "cell_type": "code",
   "execution_count": 20,
   "id": "d22b21f4",
   "metadata": {},
   "outputs": [
    {
     "name": "stdout",
     "output_type": "stream",
     "text": [
      "Yes, jogging is in the list.\n"
     ]
    }
   ],
   "source": [
    "# Solution\n",
    "mylist = ['reading','jogging', 'biking']\n",
    "if 'reading' not in mylist:\n",
    "    print('No, reading is not in the list.')\n",
    "elif 'jogging' in mylist:\n",
    "    print('Yes, jogging is in the list.')\n",
    "elif 'biking' in mylist:\n",
    "    print('Yes, biking is in the list.')\n",
    "elif 'reading' in mylist:\n",
    "    print('Yes, reading is in the list.')\n",
    "else:\n",
    "    print('Non of the hobbies is in the list.')\n",
    "    \n",
    "# Note: The text is printed out, as soon one of the condictions is met."
   ]
  },
  {
   "attachments": {},
   "cell_type": "markdown",
   "id": "afd5a30f",
   "metadata": {},
   "source": [
    "### What is the output of the following code?\n",
    "\n",
    "```python\n",
    "for i in range(20, 100, 5):\n",
    "    print( i, end='|')\n",
    "```"
   ]
  },
  {
   "attachments": {},
   "cell_type": "markdown",
   "id": "259ea073",
   "metadata": {},
   "source": [
    "#### Solution:"
   ]
  },
  {
   "cell_type": "code",
   "execution_count": 21,
   "id": "65691350",
   "metadata": {},
   "outputs": [
    {
     "name": "stdout",
     "output_type": "stream",
     "text": [
      "20|25|30|35|40|45|50|55|60|65|70|75|80|85|90|95|\n",
      "\n",
      "[1, 2, 3, 4, 5, 6, 7, 8, 9]\n",
      "[1, 2, 3, 4, 5, 6, 7, 8, 9, 10]\n",
      "[1, 2, 3, 4, 5, 6, 7, 8, 9]\n",
      "[1, 2, 3, 4, 5, 6, 7, 8, 9, 10]\n",
      "[20, 22, 24, 26, 28, 30, 32, 34, 36, 38, 40, 42, 44, 46, 48]\n"
     ]
    }
   ],
   "source": [
    "for i in range(20, 100, 5):\n",
    "    print( i, end='|')\n",
    "    \n",
    "# Explanation:\n",
    "# range(start, stop, step)\n",
    "# in range(20, 100, 5) 20 = start, 100 = stop not included in the output, 5 = step\n",
    "\n",
    "# It is important that you understand the behavior of range(), here are some examples:\n",
    "print('\\n') # new line\n",
    "print(list(range(1,10)))\n",
    "print(list(range(1,11)))\n",
    "\n",
    "print(list(range(1,10,1))) # same as above because step=1 is default\n",
    "print(list(range(1,11,1)))  # same as above because step=1 is default\n",
    "\n",
    "print(list(range(20,50,2))) # note that the number 50 is not included  \n",
    "\n",
    "# See also: https://www.w3schools.com/python/ref_func_range.asp"
   ]
  },
  {
   "attachments": {},
   "cell_type": "markdown",
   "id": "f20997fb",
   "metadata": {},
   "source": [
    "### What is the output of the following code?\n",
    "\n",
    "```python\n",
    "numbers = [0, 2, 4, 6, 8, 10, 12, 14, 16, 18, 20]\n",
    "addition = []\n",
    "for num in numbers:\n",
    "    addition.append(num+num)\n",
    "    print(addition)\n",
    "```"
   ]
  },
  {
   "cell_type": "code",
   "execution_count": 22,
   "id": "c2f2ffc9",
   "metadata": {},
   "outputs": [
    {
     "name": "stdout",
     "output_type": "stream",
     "text": [
      "[0]\n",
      "[0, 4]\n",
      "[0, 4, 8]\n",
      "[0, 4, 8, 12]\n",
      "[0, 4, 8, 12, 16]\n",
      "[0, 4, 8, 12, 16, 20]\n",
      "[0, 4, 8, 12, 16, 20, 24]\n",
      "[0, 4, 8, 12, 16, 20, 24, 28]\n",
      "[0, 4, 8, 12, 16, 20, 24, 28, 32]\n",
      "[0, 4, 8, 12, 16, 20, 24, 28, 32, 36]\n",
      "[0, 4, 8, 12, 16, 20, 24, 28, 32, 36, 40]\n"
     ]
    }
   ],
   "source": [
    "# Solution\n",
    "numbers = [0, 2, 4, 6, 8, 10, 12, 14, 16, 18, 20]\n",
    "addition = []\n",
    "for num in numbers:\n",
    "    addition.append(num+num)\n",
    "    print(addition)\n",
    "    \n",
    "# Explanation:\n",
    "# inside the loop, for num in number means 'for each element in numbers' whereas numbers is a list\n",
    "# inside the loop, the numbers are added one by one using num+num and the result is stored in the list 'addition'.\n",
    "# The print function is called inside the loop showing how the list increases in each iteration.\n",
    "# If print(addition) would be called outside the list, ist would only show the final list 'addition'."
   ]
  },
  {
   "attachments": {},
   "cell_type": "markdown",
   "id": "3f99cec0",
   "metadata": {},
   "source": [
    "### Which Python statement is missing in the code below to get the output shown?\n",
    "\n",
    "```python\n",
    "for val in [1,2,3,4,5,6]:\n",
    "    if val == 4:\n",
    "        '''missing code here'''\n",
    "    print(val)\n",
    "\n",
    "print(\"The end\")\n",
    "\n",
    "# Output\n",
    "1\n",
    "2\n",
    "3\n",
    "5\n",
    "6\n",
    "The end\n",
    "```"
   ]
  },
  {
   "attachments": {},
   "cell_type": "markdown",
   "id": "63c0cd80",
   "metadata": {},
   "source": [
    "#### Solution"
   ]
  },
  {
   "cell_type": "code",
   "execution_count": 23,
   "id": "69e18085",
   "metadata": {},
   "outputs": [
    {
     "name": "stdout",
     "output_type": "stream",
     "text": [
      "1\n",
      "2\n",
      "3\n",
      "5\n",
      "6\n",
      "The end\n"
     ]
    }
   ],
   "source": [
    "# Use of break statement inside the loop\n",
    "for val in [1,2,3,4,5,6]:\n",
    "    if val == 4:\n",
    "        continue\n",
    "    print(val)\n",
    "\n",
    "print(\"The end\")\n",
    "\n",
    "# Explanation:\n",
    "# The break statement terminates the iteration\n",
    "# Because break is used before the print() function, val == 6 is printed out but not val == 7."
   ]
  },
  {
   "attachments": {},
   "cell_type": "markdown",
   "id": "61516360",
   "metadata": {},
   "source": [
    "## Procedural and Object-oriented programming in Python"
   ]
  },
  {
   "attachments": {},
   "cell_type": "markdown",
   "id": "34b4605a",
   "metadata": {},
   "source": [
    "### What is the output of the following code?\n",
    "\n",
    "```python\n",
    "def plist(mylist):\n",
    "    mylist_sq = []\n",
    "    for i in mylist:\n",
    "        mylist_sq.append(i**2)\n",
    "    return(mylist_sq)\n",
    "\n",
    "# Calling the function\n",
    "mylist = [10,20,30]\n",
    "plist(mylist)\n",
    "```"
   ]
  },
  {
   "cell_type": "code",
   "execution_count": 24,
   "id": "03bf01c8",
   "metadata": {},
   "outputs": [
    {
     "data": {
      "text/plain": [
       "[100, 400, 900]"
      ]
     },
     "execution_count": 24,
     "metadata": {},
     "output_type": "execute_result"
    }
   ],
   "source": [
    "# Solution\n",
    "def plist(mylist):\n",
    "    \n",
    "    mylist_sq = []\n",
    "    for i in mylist:\n",
    "        mylist_sq.append(i**2)\n",
    "    return(mylist_sq)\n",
    "\n",
    "# Now you can call changeme function\n",
    "mylist = [10,20,30]\n",
    "plist(mylist)\n",
    "\n",
    "# Explanation: this function returns a list with the squared value of each element of the input-list"
   ]
  },
  {
   "attachments": {},
   "cell_type": "markdown",
   "id": "003c30a2",
   "metadata": {},
   "source": [
    "### What’s the output of the following code?\n",
    "\n",
    "```python\n",
    "class Employee:\n",
    "    \n",
    "    def __init__(self, a, b):\n",
    "        self.a = a\n",
    "        self.b = b\n",
    "\n",
    "# Intantiate an object from the class\n",
    "emp = Employee(10,20)\n",
    "print(emp.a, emp.b)\n",
    "```"
   ]
  },
  {
   "attachments": {},
   "cell_type": "markdown",
   "id": "ee299ec0",
   "metadata": {},
   "source": [
    "#### Solution:"
   ]
  },
  {
   "cell_type": "code",
   "execution_count": 25,
   "id": "c53a90e6",
   "metadata": {},
   "outputs": [
    {
     "name": "stdout",
     "output_type": "stream",
     "text": [
      "10 20\n"
     ]
    }
   ],
   "source": [
    "class Employee:\n",
    "    \n",
    "    def __init__(self, a, b):\n",
    "        self.a = a\n",
    "        self.b = b\n",
    "\n",
    "# Intantiate an object from the class\n",
    "emp = Employee(10,20)\n",
    "print(emp.a, emp.b)\n",
    "\n",
    "# Note: the correct way to intantiate an object from this class is emp = Employee(10,20)"
   ]
  },
  {
   "attachments": {},
   "cell_type": "markdown",
   "id": "0496b38f",
   "metadata": {},
   "source": [
    "### What’s the output of the following code?\n",
    "\n",
    "```python\n",
    "class Employee:\n",
    "      \n",
    "    def __init__(self):\n",
    "        self.value = 500\n",
    "          \n",
    "    def show(self):\n",
    "        print(self.value)\n",
    "\n",
    "class Department(Employee):\n",
    "      \n",
    "    def __init__(self):\n",
    "        self.value = 1000\n",
    "          \n",
    "    def show(self):\n",
    "        print(self.value)\n",
    "        \n",
    "# Create an Object\n",
    "obj = Department()\n",
    "\n",
    "# Calling the method\n",
    "obj.show()\n",
    "```"
   ]
  },
  {
   "cell_type": "code",
   "execution_count": 26,
   "id": "ccd097ef",
   "metadata": {},
   "outputs": [
    {
     "name": "stdout",
     "output_type": "stream",
     "text": [
      "1000\n",
      "250.0\n"
     ]
    }
   ],
   "source": [
    "#### Solution:\n",
    "class Employee:\n",
    "      \n",
    "    def __init__(self):\n",
    "        self.value = 500\n",
    "          \n",
    "    def show(self):\n",
    "        print(self.value)\n",
    "        \n",
    "    def div(self):\n",
    "        print(self.value / 4)\n",
    "\n",
    "class Department(Employee):\n",
    "      \n",
    "    def __init__(self):\n",
    "        self.value = 1000\n",
    "          \n",
    "    def show(self):\n",
    "        print(self.value)\n",
    "        \n",
    "# Create an Object from the Department class\n",
    "obj = Department()\n",
    "\n",
    "# Calling the methods\n",
    "obj.show() # the Department .show() method overrides the parents class .show() method\n",
    "obj.div() # the Employee .div() method is inherited by the Department class"
   ]
  },
  {
   "attachments": {},
   "cell_type": "markdown",
   "id": "5f8bfdcd",
   "metadata": {},
   "source": [
    "## Programming of vizualizations / graphics in Python"
   ]
  },
  {
   "attachments": {},
   "cell_type": "markdown",
   "id": "90c1c338",
   "metadata": {},
   "source": [
    "### From the following statements, which has been used for the generation of the histogram below?\n",
    "\n",
    "```python\n",
    "plt.xlim(0,200)\n",
    "plt.ylim(0,80)\n",
    "plt.xticks(np.arange(0, 200+1, 50))\n",
    "plt.yticks(np.arange(0, 80+1, 20))\n",
    "plt.xlabel('Values')\n",
    "plt.ylabel('Frequency')\n",
    "```\n",
    "\n",
    "#### For plot see solution below ..."
   ]
  },
  {
   "attachments": {},
   "cell_type": "markdown",
   "id": "645561ec",
   "metadata": {},
   "source": [
    "#### Solution:"
   ]
  },
  {
   "cell_type": "code",
   "execution_count": 27,
   "id": "78e623a0",
   "metadata": {},
   "outputs": [
    {
     "data": {
      "image/png": "[encoded data removed]",
      "text/plain": [
       "<Figure size 640x480 with 1 Axes>"
      ]
     },
     "metadata": {},
     "output_type": "display_data"
    }
   ],
   "source": [
    "import matplotlib.pyplot as plt\n",
    "import numpy as np\n",
    "\n",
    "# Random data (mean, standard deviation, number of obervations)\n",
    "x = np.random.normal(170, 10, 250)\n",
    "\n",
    "plt.hist(x, facecolor='orange')\n",
    "plt.xlim(0,200)\n",
    "plt.ylim(0,80)\n",
    "plt.xticks(np.arange(0, 200+1, 50))\n",
    "plt.yticks(np.arange(0, 80+1, 20))\n",
    "plt.xlabel('Values')\n",
    "plt.ylabel('Frequency')\n",
    "plt.show()\n",
    "\n",
    "# Answer: all statements have been used in this histogram\n",
    "\n",
    "# Explanation:\n",
    "# plt.xlim(0,200) sets the range of the x-axis values to 0 ... 200\n",
    "# plt.ylim(0,80) sets the range of the y-axis values to 0 ... 80\n",
    "# plt.xticks(np.arange(0, 200+1, 50)) defines the distance between tick-marks on the x-axis 0 ... 201 by 50\n",
    "# plt.yticks(np.arange(0, 80+1, 20)) defines the distance between tick-marks on the x-axis 0 ... 81 by 20\n",
    "# plt.xlabel('Values') is the x-axis label\n",
    "# plt.ylabel('Frequency') is the y-axis label\n",
    "\n",
    "# Interpretation of the histogram:\n",
    "# The values of a histogram are grouped into 'bins' along the x-axis.\n",
    "# A bin is a value range, e.g. from 0 to 19 is one bin, from 20 to 39 is the second bin, etc.\n",
    "# The height of each bar represents the number of values in the data set that fall within a particular bin.\n",
    "# In the histogram below, the number of obervations is 250\n",
    "# In the histogram below, the bin with the highest number of observations is approx. 170"
   ]
  },
  {
   "attachments": {},
   "cell_type": "markdown",
   "id": "72a64366",
   "metadata": {},
   "source": [
    "#### Solution:"
   ]
  },
  {
   "attachments": {},
   "cell_type": "markdown",
   "id": "328b7269",
   "metadata": {},
   "source": [
    "### Which of the following statements with regard to the subplots in the figure below has been used?\n",
    "\n",
    "```python\n",
    "fig, axs = plt.subplots(2,3, figsize=(8,8))\n",
    "fig, axs = plt.subplots(6,0, figsize=(8,8))\n",
    "fig, axs = plt.subplots(0,6, figsize=(8,8))\n",
    "fig, axs = plt.subplots(3,2, figsize=(8,8))\n",
    "\n",
    "```\n",
    "\n",
    "#### For plot see solution below ..."
   ]
  },
  {
   "attachments": {},
   "cell_type": "markdown",
   "id": "4954f87a",
   "metadata": {},
   "source": [
    "#### Solution:"
   ]
  },
  {
   "cell_type": "code",
   "execution_count": 28,
   "id": "115c512b",
   "metadata": {},
   "outputs": [
    {
     "data": {
      "image/png": "[encoded data removed]",
      "text/plain": [
       "<Figure size 1200x800 with 6 Axes>"
      ]
     },
     "metadata": {},
     "output_type": "display_data"
    }
   ],
   "source": [
    "import matplotlib.pyplot as plt\n",
    "import numpy as np\n",
    "\n",
    "fig, axs = plt.subplots(2,3, figsize=(12,8))\n",
    "\n",
    "# Plot 1 (Lineplot)\n",
    "x = np.array([0, 1, 2, 3])\n",
    "y = np.array([3, 8, 1, 10])\n",
    "axs[0,0].plot(x, y, 'g--')  # 'g--' means green dashed line\n",
    "\n",
    "# Plot 2 (Scatterplot)\n",
    "x = np.array([0, 1, 2, 3])\n",
    "y = np.array([10, 20, 30, 40])\n",
    "axs[0,1].plot(x, y, 'r+') # 'r+' means red plus signs\n",
    "\n",
    "# Plot 3 (Histogram)\n",
    "x = np.random.normal(170, 10, 250)\n",
    "axs[1,0].hist(x, facecolor='g')\n",
    "\n",
    "# Plot 4 (Boxplot)\n",
    "x = np.random.normal(200, 20, 400)\n",
    "axs[1,1].boxplot(x)\n",
    "\n",
    "# Plot 5 (Barplot)\n",
    "langs = ['C', 'C++', 'Java', 'Python', 'PHP']\n",
    "students = [23,17,35,29,12]\n",
    "axs[1,2].bar(langs,students, color='darkred')\n",
    "\n",
    "# Plot 6 (Piechart)\n",
    "langs = ['C', 'C++', 'Java', 'Python', 'PHP']\n",
    "students = [23,17,35,29,12]\n",
    "axs[0,2].pie(students, labels = langs,autopct='%1.1f%%')\n",
    "\n",
    "plt.show()\n",
    "\n",
    "# Answer: fig, axs = plt.subplots(2,3, figsize=(8,8)) \n",
    "# Explanation: plt.subplots(2,3, ...) creates a subplot with 2 rows and 3 columns (=6 figures in total)\n",
    "\n",
    "# For plot-styles see also: https://matplotlib.org/2.1.2/api/_as_gen/matplotlib.pyplot.plot.html\n",
    "# For other examples see: https://www.tutorialspoint.com/matplotlib/index.htm"
   ]
  }
 ],
 "metadata": {
  "kernelspec": {
   "display_name": "spenv",
   "language": "python",
   "name": "python3"
  },
  "language_info": {
   "codemirror_mode": {
    "name": "ipython",
    "version": 3
   },
   "file_extension": ".py",
   "mimetype": "text/x-python",
   "name": "python",
   "nbconvert_exporter": "python",
   "pygments_lexer": "ipython3",
   "version": "3.11.10"
  }
 },
 "nbformat": 4,
 "nbformat_minor": 5
}
